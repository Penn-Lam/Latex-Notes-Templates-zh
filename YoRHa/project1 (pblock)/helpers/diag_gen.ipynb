{
 "cells": [
  {
   "cell_type": "code",
   "execution_count": null,
   "metadata": {},
   "outputs": [],
   "source": [
    "def get_label_pos(n: int):\n",
    "    result = []\n",
    "    for i in range(1, n+1): \n",
    "        result.append(i*(5/n))\n",
    "    \n",
    "    return result "
   ]
  },
  {
   "cell_type": "code",
   "execution_count": null,
   "metadata": {},
   "outputs": [],
   "source": [
    "def generate_bar_string(val: list): \n",
    "    ul = max(val)\n",
    "    res_str = ''\n",
    "    node_pos = get_label_pos(len(val))\n",
    "    idx = -1\n",
    "    for i in val:\n",
    "        idx += 1 \n",
    "        res_str+= fr'\\draw[line width=10px] (0, -{node_pos[idx]}) -- ({round((i/ul)*4.5, 4)}, -{node_pos[idx]}) node[right]{\"{\" + str(i) + \"}\"};' + '\\n'\n",
    "    return res_str\n"
   ]
  },
  {
   "cell_type": "code",
   "execution_count": null,
   "metadata": {},
   "outputs": [],
   "source": [
    "def generate_nodes(fam: str): \n",
    "    if fam == \"b\": f = ['Br', 'Al', 'Ga', 'In', 'Tl']\n",
    "    node_pos = get_label_pos(len(f))\n",
    "    res_str = ''\n",
    "    for i in f: \n",
    "        res_str += fr'\\node at (-0.5, -{node_pos[f.index(i)]}) {\"{\" + i + \"}\"};' + '\\n'\n",
    "\n",
    "    return res_str\n"
   ]
  },
  {
   "cell_type": "code",
   "execution_count": null,
   "metadata": {},
   "outputs": [],
   "source": [
    "def decoration(val: list): \n",
    "    ps = val\n",
    "    np = get_label_pos(len(val))\n",
    "    rs = ''\n",
    "    idx = -1\n",
    "\n",
    "    rs += fr'\\draw[gruvred] ({val[0]}, -{np[0]}) -- ({val[1]}, -{np[1]}) -- ({val[2]}, -{np[2]}) -- ({val[3]}, -{np[3]}) -- ({val[4]}, -{np[4]});' + '\\n'\n",
    "\n",
    "    for i in val:\n",
    "        idx += 1 \n",
    "        rs += fr'\\fill[yorhabg] ({round((i/max(ps))*4.5, 4) - 0.3} , -{np[idx]}) circle (1pt);' + '\\n'\n",
    "        rs += fr'\\draw[yorhabg] ({round((i/max(ps))*4.5, 4) - 0.3} , -{np[idx]}) circle (2pt);' + '\\n'\n",
    "\n",
    "    val = [round((i/max(ps))*4.5,4)-0.3 for i in ps]\n",
    "\n",
    "    return rs\n"
   ]
  },
  {
   "cell_type": "code",
   "execution_count": null,
   "metadata": {},
   "outputs": [],
   "source": [
    "val = [2.0, 1.6, 1.8, 1.8, 1.8]"
   ]
  },
  {
   "cell_type": "code",
   "execution_count": null,
   "metadata": {},
   "outputs": [],
   "source": [
    "import pyperclip\n",
    "\n",
    "result_string = r'''\\node[] at (2, 0) {\\underline{Electronegativity}};\n",
    "\\node[draw] at (5, 0) {units = Pauling Scale};''' + fr'''    \n",
    "\n",
    "    {generate_bar_string(val)}\n",
    "\n",
    "    {generate_nodes('b')}\n",
    "\n",
    "    {decoration(val)}\n",
    "    '''\n",
    "\n",
    "pyperclip.copy(result_string)\n"
   ]
  },
  {
   "cell_type": "code",
   "execution_count": null,
   "metadata": {
    "vscode": {
     "languageId": "javascript"
    }
   },
   "outputs": [],
   "source": []
  }
 ],
 "metadata": {
  "kernelspec": {
   "display_name": "Python 3",
   "language": "python",
   "name": "python3"
  },
  "language_info": {
   "codemirror_mode": {
    "name": "ipython",
    "version": 3
   },
   "file_extension": ".py",
   "mimetype": "text/x-python",
   "name": "python",
   "nbconvert_exporter": "python",
   "pygments_lexer": "ipython3",
   "version": "3.11.8"
  }
 },
 "nbformat": 4,
 "nbformat_minor": 2
}
